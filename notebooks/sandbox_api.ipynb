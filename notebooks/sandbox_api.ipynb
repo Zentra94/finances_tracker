{
 "cells": [
  {
   "cell_type": "markdown",
   "id": "a2c6de53-2089-4350-a024-c6a125baea29",
   "metadata": {},
   "source": [
    "# Setup"
   ]
  },
  {
   "cell_type": "code",
   "execution_count": 13,
   "id": "4b19e0b8-de1b-4577-af28-7c36d692c693",
   "metadata": {},
   "outputs": [],
   "source": [
    "from dotenv import load_dotenv\n",
    "import os\n",
    "from pathlib import Path\n",
    "import requests\n"
   ]
  },
  {
   "cell_type": "code",
   "execution_count": 10,
   "id": "c2f6049f-92f7-4b7c-8bc7-b197ad2491f7",
   "metadata": {},
   "outputs": [],
   "source": [
    "load_dotenv(Path(os.getcwd()).parent / \".env\")\n",
    "CLIENT_ID = os.getenv(\"CLIENT_ID\")\n",
    "CLIENT_SECRET = os.getenv(\"CLIENT_SECRET\")"
   ]
  },
  {
   "cell_type": "code",
   "execution_count": 15,
   "id": "4d2cf747-022f-4979-93c8-4b2f9c775bc4",
   "metadata": {},
   "outputs": [],
   "source": [
    "import requests\n",
    "\n",
    "# Configuración de la API\n",
    "BASE_URL = 'https://apis-sandbox.bancosantander.es/canales-digitales/sb'\n",
    "#REDIRECT_URI = '{{REDIRECT_URI}}'  # Reemplaza con tu URI de redireccionamiento\n",
    "RESPONSE_TYPE = 'CODE'\n",
    "#STATE = '{{APPLICATION_STATE}}'  # Puedes definir un estado de aplicación personalizado\n",
    "\n",
    "# Información de autenticación\n",
    "USERNAME = '00000001A'  # Reemplaza con el nombre de usuario del cliente\n",
    "PASSWORD = '12345678'  # Reemplaza con la contraseña del cliente\n",
    "OTP = '000000'  # Reemplaza con el código OTP del cliente\n",
    "\n",
    "# Obtiene la URL de inicio del flujo Santander Connect\n",
    "def get_santander_connect_url():\n",
    "    url = f'{BASE_URL}/prestep-authorize?client_id={CLIENT_ID}&redirect_uri={REDIRECT_URI}&response_type={RESPONSE_TYPE}&state={STATE}'\n",
    "    response = requests.get(url)\n",
    "    return response.url\n",
    "\n",
    "# Obtiene los tokens de acceso y actualización\n",
    "def get_tokens(code):\n",
    "    url = f'{BASE_URL}/v2/token'\n",
    "    data = {\n",
    "        'code': code,\n",
    "        'grant_type': 'authorization_code',\n",
    "        'client_id': CLIENT_ID,\n",
    "        'redirect_uri': REDIRECT_URI\n",
    "    }\n",
    "    response = requests.post(url, data=data)\n",
    "    return response.json()\n",
    "\n",
    "# Obtiene el access token y el refresh token utilizando el código de autorización\n",
    "def authenticate():\n",
    "    santander_connect_url = get_santander_connect_url()\n",
    "    print(f'Por favor, abre la siguiente URL en tu navegador y autentícate:\\n{santander_connect_url}')\n",
    "    code = input('Ingresa el código de autorización: ')\n",
    "    tokens = get_tokens(code)\n",
    "    access_token = tokens['access_token']\n",
    "    refresh_token = tokens['refresh_token']\n",
    "    return access_token, refresh_token\n",
    "\n",
    "# Solicita la autorización para acceder a los scopes necesarios\n",
    "def authorize(access_token):\n",
    "    url = f'{BASE_URL}/v2/authorize?client_id={CLIENT_ID}&redirect_uri={REDIRECT_URI}&response_type={RESPONSE_TYPE}&state={STATE}'\n",
    "    headers = {\n",
    "        'Authorization': f'Bearer {access_token}'\n",
    "    }\n",
    "    response = requests.post(url, headers=headers)\n",
    "    return response.json()\n",
    "\n",
    "# Obtiene un nuevo access token utilizando el refresh token\n",
    "def get_new_access_token(refresh_token):\n",
    "    url = f'{BASE_URL}/v2/token'\n",
    "    data = {\n",
    "        'refresh_token': refresh_token,\n",
    "        'grant_type': 'refresh_token',\n",
    "        'client_id': CLIENT_ID\n",
    "    }\n",
    "    response = requests.post(url, data=data)\n",
    "    return response.json()['access_token']\n",
    "\n",
    "# Obtiene la información de transacciones del cliente\n",
    "def get_transactions(access_token):\n",
    "    url = f'{BASE_URL}/v2/card-accounts'\n",
    "    headers = {\n",
    "        'Authorization': f'Bearer {access_token}'\n",
    "    }\n",
    "    response = requests.get(url, headers=headers)\n",
    "    return response.json()\n",
    "\n",
    "# Flujo principal\n",
    "def main():\n",
    "    # Autenticación y autorización\n",
    "    access_token, refresh_token = authenticate()\n",
    "    authorization_response = authorize(access_token)\n",
    "\n",
    "    if authorization_response.get('code') == 'AUTHORIZED':\n",
    "        # Llamada a servicio de Cards\n",
    "        transactions = get_transactions(access_token)\n",
    "        print(transactions)\n",
    "    else:\n",
    "        print('No se pudo obtener la autorización para acceder a los scopes necesarios.')\n"
   ]
  },
  {
   "cell_type": "code",
   "execution_count": null,
   "id": "e5231832-604f-4d2a-bc58-3ff317c34996",
   "metadata": {},
   "outputs": [
    {
     "name": "stdout",
     "output_type": "stream",
     "text": [
      "Por favor, abre la siguiente URL en tu navegador y autentícate:\n",
      "https://apis-sandbox.bancosantander.es/canales-digitales/sb/prestep-authorize?client_id=%7B%7BCLIENT_ID%7D%7D&redirect_uri=%7B%7BREDIRECT_URI%7D%7D&response_type=CODE&state=%7B%7BAPPLICATION_STATE%7D%7D\n"
     ]
    }
   ],
   "source": [
    "main()"
   ]
  },
  {
   "cell_type": "code",
   "execution_count": null,
   "id": "92d8e063-714d-452b-9d93-f9bb79b77cd3",
   "metadata": {},
   "outputs": [],
   "source": []
  }
 ],
 "metadata": {
  "kernelspec": {
   "display_name": "finances-tracker-venv",
   "language": "python",
   "name": "venv"
  },
  "language_info": {
   "codemirror_mode": {
    "name": "ipython",
    "version": 3
   },
   "file_extension": ".py",
   "mimetype": "text/x-python",
   "name": "python",
   "nbconvert_exporter": "python",
   "pygments_lexer": "ipython3",
   "version": "3.9.6"
  }
 },
 "nbformat": 4,
 "nbformat_minor": 5
}
